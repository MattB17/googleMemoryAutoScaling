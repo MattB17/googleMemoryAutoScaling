{
 "cells": [
  {
   "cell_type": "markdown",
   "id": "known-oliver",
   "metadata": {},
   "source": [
    "# Analyzing Trace Statistics"
   ]
  },
  {
   "cell_type": "code",
   "execution_count": null,
   "id": "alone-adobe",
   "metadata": {},
   "outputs": [],
   "source": [
    "import numpy as np\n",
    "import pandas as pd\n",
    "import matplotlib.pyplot as plt\n",
    "from MemoryAutoScaling import analysis"
   ]
  },
  {
   "cell_type": "code",
   "execution_count": null,
   "id": "applied-momentum",
   "metadata": {},
   "outputs": [],
   "source": [
    "import os\n",
    "pd.set_option('display.max_columns', None)\n",
    "\n",
    "data_dir = \"/Users/mattb/Desktop/Courses/MemoryAutoScaling/output_data\"\n",
    "stats_df = pd.read_csv(os.path.join(data_dir, \"trace_stats.csv\"))\n",
    "stats_df.head()"
   ]
  },
  {
   "cell_type": "code",
   "execution_count": null,
   "id": "preliminary-insulin",
   "metadata": {},
   "outputs": [],
   "source": [
    "print(\"Total Trace Count: {}\".format(len(stats_df)))"
   ]
  },
  {
   "cell_type": "code",
   "execution_count": null,
   "id": "patient-sleep",
   "metadata": {},
   "outputs": [],
   "source": [
    "print(\"Stationarity Results\")\n",
    "print(\"Number of Stationary Traces: {}\".format(len(stats_df[stats_df['adf_p_val'] < 0.05])))\n",
    "print(\"Number of Stationary Traces after 1 Level Differencing: {}\".format(len(\n",
    "    stats_df[(stats_df['adf_p_val_diff'] < 0.05) & (stats_df['adf_p_val'] >= 0.05)])))\n",
    "print(\"Number of Stationary Traces after 2 Level Differencing: {}\".format(len(\n",
    "    stats_df[(stats_df['adf_p_val_diff2'] < 0.05) & (stats_df['adf_p_val_diff'] >= 0.05) & (stats_df['adf_p_val'] >= 0.05)])))\n",
    "print(\"Other: {}\".format(len(\n",
    "    stats_df[(stats_df['adf_p_val_diff2'] >= 0.05) & (stats_df['adf_p_val_diff'] >= 0.05) & (stats_df['adf_p_val'] >= 0.05)])))"
   ]
  },
  {
   "cell_type": "code",
   "execution_count": null,
   "id": "useful-exchange",
   "metadata": {},
   "outputs": [],
   "source": [
    "print(\"Correlation Results\")\n",
    "print(\"Number of traces with correlation of maximum_usage.memory and average_usage.memory >= 0.7 or <= -0.7: {}\".format(len(stats_df[stats_df['corr_average_usage.memory'].abs() > 0.7])))\n",
    "print(\"Number of traces with correlation of maximum_usage.memory and average_usage.cpus >= 0.7 or <= -0.7: {}\".format(len(stats_df[stats_df['corr_average_usage.cpus'].abs() > 0.7])))\n",
    "print(\"Number of traces with correlation of maximum_usage.memory and maximum_usage.cpus >= 0.7 or <= -0.7: {}\".format(len(stats_df[stats_df['corr_maximum_usage.cpus'].abs() > 0.7])))"
   ]
  },
  {
   "cell_type": "markdown",
   "id": "b2a8d0fd",
   "metadata": {},
   "source": [
    "### CDFs"
   ]
  },
  {
   "cell_type": "code",
   "execution_count": null,
   "id": "75be4c36",
   "metadata": {},
   "outputs": [],
   "source": [
    "def plot_lagged_cdfs(data_df, col_name, col_title):\n",
    "    \"\"\"Plots the lagged CDFs for `col_name` based on `lags`.\n",
    "    \n",
    "    Parameters\n",
    "    ----------\n",
    "    data_df: pd.DataFrame\n",
    "        The pandas DataFrame containing the distributions for the CDFs\n",
    "    col_name: str\n",
    "        A string representing the column for which the CDFs are generated.\n",
    "    col_title: str\n",
    "        A string representing the column title for the CDFs.\n",
    "    \n",
    "    Returns\n",
    "    -------\n",
    "    None\n",
    "    \n",
    "    \"\"\"\n",
    "    fig, axes = plt.subplots(2, 2, figsize=(20, 8))\n",
    "    lags = [0, 2, 3, 4]\n",
    "    col_names = [col_name] + [\"{0}_lag_{1}\".format(col_name, lag) for lag in [2, 3, 4]]\n",
    "    colors = [\"blue\", \"black\", \"green\", \"red\"]\n",
    "    for idx in range(4):\n",
    "        row = idx // 2\n",
    "        col = idx % 2\n",
    "        analysis.plot_cumulative_distribution_function(data_df[col_names[idx]].abs().values, axes[row, col],\n",
    "                                                       \"{0} Lag {1}\".format(col_title, lags[idx]), colors[idx])\n",
    "    plt.show()"
   ]
  },
  {
   "cell_type": "code",
   "execution_count": null,
   "id": "882b30fb",
   "metadata": {},
   "outputs": [],
   "source": [
    "plot_lagged_cdfs(stats_df, 'corr_average_usage.memory', \"Average Memory\")"
   ]
  },
  {
   "cell_type": "code",
   "execution_count": null,
   "id": "f0860bfe",
   "metadata": {},
   "outputs": [],
   "source": [
    "plot_lagged_cdfs(stats_df, 'corr_average_usage.cpus', \"Average CPU\")"
   ]
  },
  {
   "cell_type": "code",
   "execution_count": null,
   "id": "ae774228",
   "metadata": {},
   "outputs": [],
   "source": [
    "plot_lagged_cdfs(stats_df, 'corr_maximum_usage.memory', \"Maximum Memory\")"
   ]
  },
  {
   "cell_type": "code",
   "execution_count": null,
   "id": "d7b8aa72",
   "metadata": {},
   "outputs": [],
   "source": [
    "plot_lagged_cdfs(stats_df, 'corr_maximum_usage.cpus', \"Maximum CPU\")"
   ]
  }
 ],
 "metadata": {
  "kernelspec": {
   "display_name": "Python 3",
   "language": "python",
   "name": "python3"
  },
  "language_info": {
   "codemirror_mode": {
    "name": "ipython",
    "version": 3
   },
   "file_extension": ".py",
   "mimetype": "text/x-python",
   "name": "python",
   "nbconvert_exporter": "python",
   "pygments_lexer": "ipython3",
   "version": "3.6.13"
  }
 },
 "nbformat": 4,
 "nbformat_minor": 5
}
