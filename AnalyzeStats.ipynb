{
 "cells": [
  {
   "cell_type": "markdown",
   "id": "known-oliver",
   "metadata": {},
   "source": [
    "# Analyzing Trace Statistics"
   ]
  },
  {
   "cell_type": "code",
   "execution_count": null,
   "id": "alone-adobe",
   "metadata": {},
   "outputs": [],
   "source": [
    "import numpy as np\n",
    "import pandas as pd\n",
    "import matplotlib.pyplot as plt\n",
    "from MemoryAutoScaling import analysis"
   ]
  },
  {
   "cell_type": "code",
   "execution_count": null,
   "id": "applied-momentum",
   "metadata": {},
   "outputs": [],
   "source": [
    "import os\n",
    "pd.set_option('display.max_columns', None)\n",
    "\n",
    "data_dir = \"/Users/mattb/Desktop/Courses/MemoryAutoScaling/output_data/max_mem_3\"\n",
    "stats_df = pd.read_csv(os.path.join(data_dir, \"trace_stats.csv\"))\n",
    "stats_df.head()"
   ]
  },
  {
   "cell_type": "code",
   "execution_count": null,
   "id": "preliminary-insulin",
   "metadata": {},
   "outputs": [],
   "source": [
    "print(\"Total Trace Count: {}\".format(len(stats_df)))"
   ]
  },
  {
   "cell_type": "code",
   "execution_count": null,
   "id": "patient-sleep",
   "metadata": {},
   "outputs": [],
   "source": [
    "print(\"Stationarity Results\")\n",
    "print(\"Number of Stationary Traces: {}\".format(len(stats_df[stats_df['adf_p_val'] < 0.05])))\n",
    "print(\"Number of Stationary Traces after 1 Level Differencing: {}\".format(len(\n",
    "    stats_df[(stats_df['adf_p_val_diff'] < 0.05) & (stats_df['adf_p_val'] >= 0.05)])))\n",
    "print(\"Number of Stationary Traces after 2 Level Differencing: {}\".format(len(\n",
    "    stats_df[(stats_df['adf_p_val_diff2'] < 0.05) & (stats_df['adf_p_val_diff'] >= 0.05) & (stats_df['adf_p_val'] >= 0.05)])))\n",
    "print(\"Other: {}\".format(len(\n",
    "    stats_df[(stats_df['adf_p_val_diff2'] >= 0.05) & (stats_df['adf_p_val_diff'] >= 0.05) & (stats_df['adf_p_val'] >= 0.05)])))"
   ]
  },
  {
   "cell_type": "code",
   "execution_count": null,
   "id": "useful-exchange",
   "metadata": {},
   "outputs": [],
   "source": [
    "print(\"Correlation Results\")\n",
    "print(\"Number of traces with correlation of maximum_usage.memory and average_usage.memory >= 0.7 or <= -0.7: {}\".format(len(stats_df[stats_df['corr_average_usage.memory_ts'].abs() > 0.7])))\n",
    "print(\"Number of traces with correlation of maximum_usage.memory and average_usage.cpus >= 0.7 or <= -0.7: {}\".format(len(stats_df[stats_df['corr_average_usage.cpus_ts'].abs() > 0.7])))\n",
    "print(\"Number of traces with correlation of maximum_usage.memory and maximum_usage.cpus >= 0.7 or <= -0.7: {}\".format(len(stats_df[stats_df['corr_maximum_usage.cpus_ts'].abs() > 0.7])))"
   ]
  },
  {
   "cell_type": "markdown",
   "id": "b2a8d0fd",
   "metadata": {},
   "source": [
    "### CDFs"
   ]
  },
  {
   "cell_type": "code",
   "execution_count": null,
   "id": "75be4c36",
   "metadata": {},
   "outputs": [],
   "source": [
    "def plot_lagged_cdfs(data_df, col_name, col_title):\n",
    "    \"\"\"Plots the lagged CDFs for `col_name`.\n",
    "    \n",
    "    Parameters\n",
    "    ----------\n",
    "    data_df: pd.DataFrame\n",
    "        The pandas DataFrame containing the distributions for the CDFs\n",
    "    col_name: str\n",
    "        A string representing the column for which the CDFs are generated.\n",
    "    col_title: str\n",
    "        A string representing the column title for the CDFs.\n",
    "    \n",
    "    Returns\n",
    "    -------\n",
    "    None\n",
    "    \n",
    "    \"\"\"\n",
    "    fig, axes = plt.subplots(2, 2, figsize=(20, 8))\n",
    "    lags = [0, 1, 2, 3]\n",
    "    col_names = [\"corr_{}\".format(col_name)] + [\"corr_{0}_lag_{1}\".format(col_name, lag) for lag in lags[1:]]\n",
    "    colors = [\"blue\", \"black\", \"green\", \"red\"]\n",
    "    for idx in range(4):\n",
    "        row = idx // 2\n",
    "        col = idx % 2\n",
    "        data_vals = data_df[col_names[idx]].abs().values\n",
    "        data_vals = data_vals[~np.isnan(data_vals)]\n",
    "        analysis.plot_cumulative_distribution_function(data_vals, axes[row, col],\n",
    "                                                       \"{0} Lag {1}\".format(col_title, lags[idx]), colors[idx],\n",
    "                                                       \"CDF of Correlation\")\n",
    "    plt.show()"
   ]
  },
  {
   "cell_type": "code",
   "execution_count": null,
   "id": "linear-prize",
   "metadata": {},
   "outputs": [],
   "source": [
    "from MemoryAutoScaling import specs\n",
    "\n",
    "def print_all_cdfs_for_stats(data_df, col_name, col_title, is_max=True):\n",
    "    \"\"\"Prints all of the CDFs for the correlations for `col_name` across all stats.\n",
    "    \n",
    "    Parameters\n",
    "    ----------\n",
    "    data_df: pd.DataFrame\n",
    "        The pandas DataFrame containing the distributions for the CDFs\n",
    "    col_name: str\n",
    "        A string representing the column for which the CDFs are generated.\n",
    "    col_title: str\n",
    "        A string representing the column title for the CDFs.\n",
    "    is_max: bool\n",
    "        A boolean indicating whether `col_name` corresponds to a maximum column.\n",
    "    \n",
    "    Returns\n",
    "    -------\n",
    "    None\n",
    "    \n",
    "    \"\"\"\n",
    "    if is_max:\n",
    "        col_names = [\"{0}_{1}\".format(col_name, stat) for stat in specs.MAX_STATS_COLS]\n",
    "    else:\n",
    "        col_names = [\"{0}_{1}\".format(col_name, stat) for stat in specs.AVG_STATS_COLS]\n",
    "    for name in col_names:\n",
    "        print(name)\n",
    "        plot_lagged_cdfs(stats_df, name, col_title)\n",
    "        print(\"------------------------------------------------------------------------\")"
   ]
  },
  {
   "cell_type": "code",
   "execution_count": null,
   "id": "foster-identity",
   "metadata": {
    "scrolled": false
   },
   "outputs": [],
   "source": [
    "print_all_cdfs_for_stats(stats_df, \"average_usage.memory\", \"Average Memory\", False)"
   ]
  },
  {
   "cell_type": "code",
   "execution_count": null,
   "id": "f0860bfe",
   "metadata": {
    "scrolled": false
   },
   "outputs": [],
   "source": [
    "print_all_cdfs_for_stats(stats_df, \"average_usage.cpus\", \"Average CPU\", False)"
   ]
  },
  {
   "cell_type": "code",
   "execution_count": null,
   "id": "ae774228",
   "metadata": {
    "scrolled": false
   },
   "outputs": [],
   "source": [
    "print_all_cdfs_for_stats(stats_df, \"maximum_usage.memory\", \"Maximum Memory\", True)"
   ]
  },
  {
   "cell_type": "code",
   "execution_count": null,
   "id": "d7b8aa72",
   "metadata": {
    "scrolled": false
   },
   "outputs": [],
   "source": [
    "print_all_cdfs_for_stats(stats_df, \"maximum_usage.cpus\", \"Maximum CPU\", True)"
   ]
  },
  {
   "cell_type": "markdown",
   "id": "a27c26f6",
   "metadata": {},
   "source": [
    "### Causation"
   ]
  },
  {
   "cell_type": "code",
   "execution_count": null,
   "id": "40ca58a7",
   "metadata": {},
   "outputs": [],
   "source": [
    "def plot_causal_cdfs(data_df, col_name, test_name, col_title):\n",
    "    \"\"\"Plots the causal CDFs for `col_name`.\n",
    "    \n",
    "    Parameters\n",
    "    ----------\n",
    "    data_df: pd.DataFrame\n",
    "        The pandas DataFrame containing the distributions for the CDFs\n",
    "    col_name: str\n",
    "        A string representing the column for which the CDFs are generated.\n",
    "    col_title: str\n",
    "        A string representing the column title for the CDFs.\n",
    "    \n",
    "    Returns\n",
    "    -------\n",
    "    None\n",
    "    \n",
    "    \"\"\"\n",
    "    fig, axes = plt.subplots(3, figsize=(20, 20))\n",
    "    lags = [1, 2, 3]\n",
    "    col_names = [\"causal_{0}_{1}_{2}\".format(col_name, test_name, lag) for lag in lags]\n",
    "    colors = [\"blue\", \"black\", \"green\"]\n",
    "    for idx in range(3):\n",
    "        data_vals = data_df[col_names[idx]].abs().values\n",
    "        print(\"Lag {0}: {1} NaN values\".format(lags[idx], np.sum(np.isnan(data_vals))))\n",
    "        data_vals = data_vals[~np.isnan(data_vals)]\n",
    "        analysis.plot_cumulative_distribution_function(data_df[col_names[idx]].abs().values, axes[idx],\n",
    "                                                       \"{0} Lag {1}\".format(col_title, lags[idx]), colors[idx],\n",
    "                                                       \"CDF of Causation P-Values\")\n",
    "    plt.show()"
   ]
  },
  {
   "cell_type": "code",
   "execution_count": null,
   "id": "a37deab8",
   "metadata": {},
   "outputs": [],
   "source": [
    "plot_causal_cdfs(stats_df, \"average_usage.memory_ts\", \"ssr_chi2test\",\"Average Memory\")"
   ]
  },
  {
   "cell_type": "code",
   "execution_count": null,
   "id": "d7633962",
   "metadata": {},
   "outputs": [],
   "source": [
    "plot_causal_cdfs(stats_df, \"average_usage.cpus_ts\", \"ssr_chi2test\",\"Average CPU\")"
   ]
  },
  {
   "cell_type": "code",
   "execution_count": null,
   "id": "95c5d2c4",
   "metadata": {},
   "outputs": [],
   "source": [
    "plot_causal_cdfs(stats_df, \"maximum_usage.cpus_ts\", \"ssr_chi2test\",\"Maximum CPU\")"
   ]
  },
  {
   "cell_type": "code",
   "execution_count": null,
   "id": "6234c355",
   "metadata": {},
   "outputs": [],
   "source": []
  }
 ],
 "metadata": {
  "kernelspec": {
   "display_name": "Python 3",
   "language": "python",
   "name": "python3"
  },
  "language_info": {
   "codemirror_mode": {
    "name": "ipython",
    "version": 3
   },
   "file_extension": ".py",
   "mimetype": "text/x-python",
   "name": "python",
   "nbconvert_exporter": "python",
   "pygments_lexer": "ipython3",
   "version": "3.6.13"
  }
 },
 "nbformat": 4,
 "nbformat_minor": 5
}
