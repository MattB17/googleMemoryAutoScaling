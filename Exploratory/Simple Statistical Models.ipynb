{
 "cells": [
  {
   "cell_type": "markdown",
   "id": "agreed-department",
   "metadata": {},
   "source": [
    "# Simple Statistical Models\n",
    "\n",
    "In this section we fit a series of simple statistical models such as moving average, exponential smoothing, and ARIMA"
   ]
  },
  {
   "cell_type": "code",
   "execution_count": 1,
   "id": "sharp-inquiry",
   "metadata": {},
   "outputs": [],
   "source": [
    "import numpy as np\n",
    "import pandas as pd\n",
    "from MemoryAutoScaling.DataHandling import Trace, TraceHandler\n",
    "from MemoryAutoScaling.Models import MovingAverageModel, ExponentialSmoothingModel"
   ]
  },
  {
   "cell_type": "code",
   "execution_count": null,
   "id": "unique-headline",
   "metadata": {},
   "outputs": [],
   "source": [
    "handler = TraceHandler(\"/Users/mattb/Desktop/Courses/MemoryAutoScaling/input_data\", \"task_usage_df\")"
   ]
  }
 ],
 "metadata": {
  "kernelspec": {
   "display_name": "Python 3",
   "language": "python",
   "name": "python3"
  },
  "language_info": {
   "codemirror_mode": {
    "name": "ipython",
    "version": 3
   },
   "file_extension": ".py",
   "mimetype": "text/x-python",
   "name": "python",
   "nbconvert_exporter": "python",
   "pygments_lexer": "ipython3",
   "version": "3.6.5"
  }
 },
 "nbformat": 4,
 "nbformat_minor": 5
}
