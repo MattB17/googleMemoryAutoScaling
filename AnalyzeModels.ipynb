{
 "cells": [
  {
   "cell_type": "markdown",
   "id": "352c7664",
   "metadata": {},
   "source": [
    "# Analyze Model Results"
   ]
  },
  {
   "cell_type": "code",
   "execution_count": null,
   "id": "2025a89a",
   "metadata": {},
   "outputs": [],
   "source": [
    "import numpy as np\n",
    "import pandas as pd\n",
    "import matplotlib.pyplot as plt\n",
    "import seaborn as sns"
   ]
  },
  {
   "cell_type": "markdown",
   "id": "5a06c08b",
   "metadata": {},
   "source": [
    "### Regression Results"
   ]
  },
  {
   "cell_type": "code",
   "execution_count": null,
   "id": "0d815356",
   "metadata": {},
   "outputs": [],
   "source": [
    "import os\n",
    "pd.set_option('display.max_columns', None)\n",
    "\n",
    "data_dir = \"/Users/mattb/Desktop/Courses/MemoryAutoScaling/output_data\"\n",
    "reg_df = pd.read_csv(os.path.join(data_dir, \"reg_results.csv\"))\n",
    "reg_df.head()"
   ]
  },
  {
   "cell_type": "code",
   "execution_count": null,
   "id": "2e14aa18",
   "metadata": {},
   "outputs": [],
   "source": [
    "reg_vals = list(np.unique([col.split(\"_\")[-1] for col in reg_df.columns if col != \"id\"]))\n",
    "reg_vals"
   ]
  },
  {
   "cell_type": "code",
   "execution_count": null,
   "id": "b1aabdf0",
   "metadata": {},
   "outputs": [],
   "source": [
    "model_cols = [\"train_mase\", \"test_mase\", \"prop_under_preds\", \"max_under_pred\", \"prop_over_preds\", \"avg_over_pred\"]\n",
    "cols_for_model = [\"id\"] + [\"{0}_reg_{1}\".format(col_name, reg_vals[0]) for col_name in model_cols]\n",
    "model_stats_df = reg_df[cols_for_model]"
   ]
  },
  {
   "cell_type": "code",
   "execution_count": null,
   "id": "6d74cb2a",
   "metadata": {},
   "outputs": [],
   "source": [
    "model_stats_df = model_stats_df.replace([np.inf, -np.inf], np.nan)\n",
    "original_length = len(model_stats_df)\n",
    "model_stats_df = model_stats_df.dropna(subset=[cols_for_model[2]])\n",
    "print(\"NaN Values: {}\".format(original_length - len(model_stats_df)))"
   ]
  },
  {
   "cell_type": "code",
   "execution_count": null,
   "id": "1863d6e6",
   "metadata": {},
   "outputs": [],
   "source": [
    "model_stats_df.describe()"
   ]
  },
  {
   "cell_type": "code",
   "execution_count": null,
   "id": "6e37fdbd",
   "metadata": {},
   "outputs": [],
   "source": []
  }
 ],
 "metadata": {
  "kernelspec": {
   "display_name": "Python 3",
   "language": "python",
   "name": "python3"
  },
  "language_info": {
   "codemirror_mode": {
    "name": "ipython",
    "version": 3
   },
   "file_extension": ".py",
   "mimetype": "text/x-python",
   "name": "python",
   "nbconvert_exporter": "python",
   "pygments_lexer": "ipython3",
   "version": "3.6.13"
  }
 },
 "nbformat": 4,
 "nbformat_minor": 5
}
