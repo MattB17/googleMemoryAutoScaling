{
 "cells": [
  {
   "cell_type": "markdown",
   "id": "352c7664",
   "metadata": {},
   "source": [
    "# Analyze Model Results"
   ]
  },
  {
   "cell_type": "code",
   "execution_count": null,
   "id": "2025a89a",
   "metadata": {},
   "outputs": [],
   "source": [
    "import os\n",
    "import numpy as np\n",
    "import pandas as pd\n",
    "import matplotlib.pyplot as plt\n",
    "import seaborn as sns\n",
    "from MemoryAutoScaling import analysis\n",
    "\n",
    "pd.set_option('display.max_columns', None)"
   ]
  },
  {
   "cell_type": "code",
   "execution_count": null,
   "id": "a0917b26",
   "metadata": {},
   "outputs": [],
   "source": [
    "def render_params_bar_plot(params, counts, model_name):\n",
    "    \"\"\"Renders a bar plot of `params` for `model_name` based on `counts`.\n",
    "    \n",
    "    Parameters\n",
    "    ----------\n",
    "    params: list\n",
    "        A list of the most common optimal parameters.\n",
    "    counts: list\n",
    "        A list of integers representing counts for the parameters.\n",
    "    model_name: str\n",
    "        A string representing the name of the model.\n",
    "    \n",
    "    Returns\n",
    "    -------\n",
    "    None\n",
    "    \n",
    "    \"\"\"\n",
    "    n = len(params)\n",
    "    plt.figure(figsize=(20, 10))\n",
    "    plt.bar(range(n), counts)\n",
    "    plt.xticks(range(n), params)\n",
    "    plt.title(\"{} Model Most Common Optimal Parameter\".format(model_name.upper()))\n",
    "    plt.show()"
   ]
  },
  {
   "cell_type": "code",
   "execution_count": null,
   "id": "ce264b2c",
   "metadata": {},
   "outputs": [],
   "source": [
    "def plot_most_prominent_params(model_results_df, top_params_count, model_name):\n",
    "    \"\"\"A plot of the `top_params_count` most prominent parameters in `model_results_df`.\n",
    "    \n",
    "    Parameters\n",
    "    ----------\n",
    "    model_results_df: pd.DataFrame\n",
    "        A pandas DataFrame containing model results.\n",
    "    top_params_count: int\n",
    "        An integer representing the number of parameters to be included in the plot.\n",
    "        The `top_params_count` most prominent parameters of `model_results_df` are plotted.\n",
    "    model_name: str\n",
    "        A string representing the name of the model.\n",
    "    \n",
    "    Returns\n",
    "    -------\n",
    "    None\n",
    "    \n",
    "    \"\"\"\n",
    "    params_data = model_results_df.groupby('params_{}'.format(model_name))['id'].count()\n",
    "    params_data = params_data.sort_values(ascending=False)\n",
    "    if len(params_data) > 5:\n",
    "        params_data = params_data[:5]\n",
    "    render_params_bar_plot(params_data.index, params_data.values, model_name)"
   ]
  },
  {
   "cell_type": "code",
   "execution_count": null,
   "id": "cbb383ec",
   "metadata": {},
   "outputs": [],
   "source": [
    "def build_model_result_CDFs(model_results_df, model_name):\n",
    "    \"\"\"Builds CDFs of model result statistics for `model_name` from `model_results_df`.\n",
    "    \n",
    "    The CDFs are built for each model result statistic across all the traces modeled.\n",
    "    \n",
    "    Parameters\n",
    "    ----------\n",
    "    model_results_df: pd.DataFrame\n",
    "        A pandas DataFrame containing the model results for all traces.\n",
    "    model_name: str\n",
    "        A string representing the name of the model fit to the traces.\n",
    "    \n",
    "    Returns\n",
    "    -------\n",
    "    None\n",
    "    \n",
    "    \"\"\"\n",
    "    fig, axes = plt.subplots(2, 2, figsize=(20, 20))\n",
    "    colors = [\"blue\", \"black\", \"green\", \"red\"]\n",
    "    col_lst = [\"test_mase\", \"under_mase\", \"prop_under_preds\", \"max_under_pred\"]\n",
    "    for idx in range(len(colors)):\n",
    "        col_name = \"{0}_{1}\".format(col_lst[idx], model_name)\n",
    "        data_vals = model_results_df[col_name].values\n",
    "        row = idx // 2\n",
    "        col = idx % 2\n",
    "        analysis.plot_cumulative_distribution_function(data_vals, axes[row, col], col_name, colors[idx], \"CDF\")"
   ]
  },
  {
   "cell_type": "code",
   "execution_count": null,
   "id": "19f7084a",
   "metadata": {},
   "outputs": [],
   "source": [
    "def get_model_results(data_dir, top_params_count, model_name):\n",
    "    \"\"\"Retrieves the model results for `model_name` from `data_dir`.\n",
    "    \n",
    "    Parameters\n",
    "    ----------\n",
    "    data_dir: str\n",
    "        A string representing the directory containing the model results.\n",
    "    top_params_count: int\n",
    "        An integer representing the number of parameters to be included in the plot.\n",
    "        The `top_params_count` most prominent parameters of `model_results_df` are plotted.\n",
    "    model_name: str\n",
    "        A string representing the name of the model for which results are retrieved.\n",
    "    \n",
    "    Returns\n",
    "    -------\n",
    "    pd.DataFrame\n",
    "        A pandas DataFrame containing the model results.\n",
    "    \n",
    "    \"\"\"\n",
    "    model_df = pd.read_csv(os.path.join(data_dir, \"{}_results.csv\".format(model_name)))\n",
    "    print(model_df.describe())\n",
    "    plot_most_prominent_params(model_df, top_params_count, model_name)\n",
    "    build_model_result_CDFs(model_df, model_name)\n",
    "    return model_df"
   ]
  },
  {
   "cell_type": "markdown",
   "id": "5a06c08b",
   "metadata": {},
   "source": [
    "### Maximum Memory Usage - 3 Period Aggregation"
   ]
  },
  {
   "cell_type": "code",
   "execution_count": null,
   "id": "0d815356",
   "metadata": {
    "scrolled": false
   },
   "outputs": [],
   "source": [
    "max_mem_3_dir = \"/Users/mattb/Desktop/Courses/MemoryAutoScaling/output_data/max_mem_3\"\n",
    "\n",
    "ma_df = get_model_results(max_mem_3_dir, 5, \"ma\")"
   ]
  },
  {
   "cell_type": "code",
   "execution_count": null,
   "id": "3dd521c0",
   "metadata": {
    "scrolled": false
   },
   "outputs": [],
   "source": [
    "es_df = get_model_results(max_mem_3_dir, 5, \"es\")"
   ]
  },
  {
   "cell_type": "code",
   "execution_count": null,
   "id": "21baa36f",
   "metadata": {
    "scrolled": false
   },
   "outputs": [],
   "source": [
    "reg_df = get_model_results(max_mem_3_dir, 5, \"reg\")"
   ]
  },
  {
   "cell_type": "code",
   "execution_count": null,
   "id": "db3c571b",
   "metadata": {
    "scrolled": false
   },
   "outputs": [],
   "source": [
    "svm_df = get_model_results(max_mem_3_dir, 5, \"svm\")"
   ]
  },
  {
   "cell_type": "code",
   "execution_count": null,
   "id": "8ad49fca",
   "metadata": {
    "scrolled": false
   },
   "outputs": [],
   "source": [
    "svm_df = get_model_results(max_mem_3_dir, 5, \"xgb\")"
   ]
  },
  {
   "cell_type": "code",
   "execution_count": null,
   "id": "15e57074",
   "metadata": {
    "scrolled": false
   },
   "outputs": [],
   "source": [
    "svm_df = get_model_results(max_mem_3_dir, 5, \"arima\")"
   ]
  },
  {
   "cell_type": "code",
   "execution_count": null,
   "id": "89b994c6",
   "metadata": {},
   "outputs": [],
   "source": []
  }
 ],
 "metadata": {
  "kernelspec": {
   "display_name": "Python 3",
   "language": "python",
   "name": "python3"
  },
  "language_info": {
   "codemirror_mode": {
    "name": "ipython",
    "version": 3
   },
   "file_extension": ".py",
   "mimetype": "text/x-python",
   "name": "python",
   "nbconvert_exporter": "python",
   "pygments_lexer": "ipython3",
   "version": "3.6.13"
  }
 },
 "nbformat": 4,
 "nbformat_minor": 5
}
