{
 "cells": [
  {
   "cell_type": "markdown",
   "id": "352c7664",
   "metadata": {},
   "source": [
    "# Analyze Model Results"
   ]
  },
  {
   "cell_type": "code",
   "execution_count": null,
   "id": "2025a89a",
   "metadata": {},
   "outputs": [],
   "source": [
    "import numpy as np\n",
    "import pandas as pd\n",
    "import matplotlib.pyplot as plt\n",
    "import seaborn as sns"
   ]
  },
  {
   "cell_type": "markdown",
   "id": "5a06c08b",
   "metadata": {},
   "source": [
    "### Moving Average Results"
   ]
  },
  {
   "cell_type": "code",
   "execution_count": null,
   "id": "0d815356",
   "metadata": {},
   "outputs": [],
   "source": [
    "import os\n",
    "pd.set_option('display.max_columns', None)\n",
    "\n",
    "data_dir = \"/Users/mattb/Desktop/Courses/MemoryAutoScaling/output_data/max_mem_3\"\n",
    "ma_df = pd.read_csv(os.path.join(data_dir, \"ma_results.csv\"))\n",
    "ma_df.head()"
   ]
  },
  {
   "cell_type": "code",
   "execution_count": null,
   "id": "9d65743f",
   "metadata": {},
   "outputs": [],
   "source": [
    "ma_df.describe()"
   ]
  },
  {
   "cell_type": "code",
   "execution_count": null,
   "id": "2e14aa18",
   "metadata": {},
   "outputs": [],
   "source": [
    "from MemoryAutoScaling import analysis\n",
    "\n",
    "fig, axes = plt.subplots(4, figsize=(20, 20))\n",
    "colors = [\"blue\", \"black\", \"green\", \"red\"]\n",
    "col_lst = [\"test_mase\", \"under_mase\", \"prop_under_preds\", \"max_under_pred\"]\n",
    "for idx in range(len(colors)):\n",
    "    col_name = \"{0}_ma\".format(col_lst[idx])\n",
    "    data_vals = ma_df[col_name].values\n",
    "    analysis.plot_cumulative_distribution_function(data_vals, axes[idx], col_name, colors[idx], \"CDF\")    "
   ]
  }
 ],
 "metadata": {
  "kernelspec": {
   "display_name": "Python 3",
   "language": "python",
   "name": "python3"
  },
  "language_info": {
   "codemirror_mode": {
    "name": "ipython",
    "version": 3
   },
   "file_extension": ".py",
   "mimetype": "text/x-python",
   "name": "python",
   "nbconvert_exporter": "python",
   "pygments_lexer": "ipython3",
   "version": "3.6.13"
  }
 },
 "nbformat": 4,
 "nbformat_minor": 5
}
