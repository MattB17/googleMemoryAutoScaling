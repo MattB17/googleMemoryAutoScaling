{
 "cells": [
  {
   "cell_type": "markdown",
   "id": "814b3139",
   "metadata": {},
   "source": [
    "# Trace Experiments"
   ]
  },
  {
   "cell_type": "code",
   "execution_count": null,
   "id": "94cfa40c",
   "metadata": {},
   "outputs": [],
   "source": [
    "import numpy as np\n",
    "import pandas as pd\n",
    "from MemoryAutoScaling.DataHandling import TraceHandler\n",
    "from MemoryAutoScaling.Analysis import TraceAnalyzer"
   ]
  },
  {
   "cell_type": "code",
   "execution_count": null,
   "id": "82b3c010",
   "metadata": {},
   "outputs": [],
   "source": [
    "trace_handler = TraceHandler(\"/Users/mattb/Desktop/Courses/MemoryAutoScaling/input_data\", \"task_usage_df\", 12, 1)\n",
    "traces = trace_handler.run_processing_pipeline()"
   ]
  },
  {
   "cell_type": "code",
   "execution_count": null,
   "id": "1bb7b322",
   "metadata": {},
   "outputs": [],
   "source": [
    "from MemoryAutoScaling.Analysis import TraceAnalyzer\n",
    "\n",
    "analyzer = TraceAnalyzer(\"whitegrid\", \"seaborn-dark\", 10, \"blue\", \"Raw Data\")"
   ]
  },
  {
   "cell_type": "code",
   "execution_count": null,
   "id": "8c8851cb",
   "metadata": {},
   "outputs": [],
   "source": [
    "analyzer.plot_trace(traces[0].get_maximum_memory_time_series())"
   ]
  },
  {
   "cell_type": "code",
   "execution_count": null,
   "id": "6ee7d74a",
   "metadata": {},
   "outputs": [],
   "source": [
    "analyzer.plot_trace(traces[1].get_maximum_memory_time_series())"
   ]
  },
  {
   "cell_type": "code",
   "execution_count": null,
   "id": "743a360a",
   "metadata": {},
   "outputs": [],
   "source": [
    "analyzer.plot_trace(traces[2].get_maximum_memory_time_series())"
   ]
  },
  {
   "cell_type": "code",
   "execution_count": null,
   "id": "44fa4e7c",
   "metadata": {},
   "outputs": [],
   "source": [
    "analyzer.plot_trace(traces[3].get_maximum_memory_time_series())"
   ]
  },
  {
   "cell_type": "code",
   "execution_count": null,
   "id": "43aa368e",
   "metadata": {},
   "outputs": [],
   "source": [
    "analyzer.plot_trace(traces[4].get_maximum_memory_time_series())"
   ]
  }
 ],
 "metadata": {
  "kernelspec": {
   "display_name": "Python 3",
   "language": "python",
   "name": "python3"
  },
  "language_info": {
   "codemirror_mode": {
    "name": "ipython",
    "version": 3
   },
   "file_extension": ".py",
   "mimetype": "text/x-python",
   "name": "python",
   "nbconvert_exporter": "python",
   "pygments_lexer": "ipython3",
   "version": "3.6.13"
  }
 },
 "nbformat": 4,
 "nbformat_minor": 5
}
