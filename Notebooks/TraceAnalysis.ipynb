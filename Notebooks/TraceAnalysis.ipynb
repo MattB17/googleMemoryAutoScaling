{
 "cells": [
  {
   "cell_type": "code",
   "execution_count": null,
   "id": "f78e7924",
   "metadata": {},
   "outputs": [],
   "source": [
    "import numpy as np\n",
    "import pandas as pd\n",
    "import matplotlib.pyplot as plt\n",
    "from MemoryAutoScaling import analysis, specs\n",
    "from MemoryAutoScaling.DataHandling import TraceHandler"
   ]
  },
  {
   "cell_type": "code",
   "execution_count": null,
   "id": "421e5d4a",
   "metadata": {},
   "outputs": [],
   "source": [
    "trace_handler = TraceHandler(\"/Users/mattb/Desktop/Courses/MemoryAutoScaling/input_data\", \"task_usage_df\", 150, 3)\n",
    "traces = trace_handler.run_processing_pipeline()"
   ]
  },
  {
   "cell_type": "markdown",
   "id": "70bc70d8",
   "metadata": {},
   "source": [
    "### Average CPU Usage\n",
    "\n",
    "Utilization based on average CPU usage"
   ]
  },
  {
   "cell_type": "code",
   "execution_count": null,
   "id": "5a1208ad",
   "metadata": {},
   "outputs": [],
   "source": [
    "print(traces[0].get_resource_utilization(specs.MAX_CPU_COL))\n",
    "analysis.plot_usage_vs_allocated(traces[0], is_mem=False)"
   ]
  },
  {
   "cell_type": "code",
   "execution_count": null,
   "id": "0b5380d1",
   "metadata": {},
   "outputs": [],
   "source": [
    "print(traces[1].get_resource_utilization(specs.MAX_CPU_COL))\n",
    "analysis.plot_usage_vs_allocated(traces[1], is_mem=False)"
   ]
  },
  {
   "cell_type": "code",
   "execution_count": null,
   "id": "17c1c105",
   "metadata": {},
   "outputs": [],
   "source": [
    "print(traces[2].get_resource_utilization(specs.MAX_CPU_COL))\n",
    "analysis.plot_usage_vs_allocated(traces[2], is_mem=False)"
   ]
  },
  {
   "cell_type": "markdown",
   "id": "7884efbb",
   "metadata": {},
   "source": [
    "### Maximum CPU Usage\n",
    "\n",
    "Utilization based on maximum CPU usage"
   ]
  },
  {
   "cell_type": "code",
   "execution_count": null,
   "id": "800c8aaf",
   "metadata": {},
   "outputs": [],
   "source": [
    "print(traces[0].get_resource_utilization(specs.MAX_CPU_COL))\n",
    "analysis.plot_usage_vs_allocated(traces[0], is_mem=False)"
   ]
  },
  {
   "cell_type": "code",
   "execution_count": null,
   "id": "a1d93cef",
   "metadata": {},
   "outputs": [],
   "source": [
    "print(traces[1].get_resource_utilization(specs.MAX_CPU_COL))\n",
    "analysis.plot_usage_vs_allocated(traces[1], is_mem=False)"
   ]
  },
  {
   "cell_type": "code",
   "execution_count": null,
   "id": "2f9b33ff",
   "metadata": {},
   "outputs": [],
   "source": [
    "print(traces[2].get_resource_utilization(specs.MAX_CPU_COL))\n",
    "analysis.plot_usage_vs_allocated(traces[2], is_mem=False)"
   ]
  }
 ],
 "metadata": {
  "kernelspec": {
   "display_name": "Python 3",
   "language": "python",
   "name": "python3"
  },
  "language_info": {
   "codemirror_mode": {
    "name": "ipython",
    "version": 3
   },
   "file_extension": ".py",
   "mimetype": "text/x-python",
   "name": "python",
   "nbconvert_exporter": "python",
   "pygments_lexer": "ipython3",
   "version": "3.6.13"
  }
 },
 "nbformat": 4,
 "nbformat_minor": 5
}
