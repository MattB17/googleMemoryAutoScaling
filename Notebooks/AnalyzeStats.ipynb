{
 "cells": [
  {
   "cell_type": "markdown",
   "id": "known-oliver",
   "metadata": {},
   "source": [
    "# Analyzing Trace Statistics"
   ]
  },
  {
   "cell_type": "code",
   "execution_count": null,
   "id": "alone-adobe",
   "metadata": {},
   "outputs": [],
   "source": [
    "import os\n",
    "import numpy as np\n",
    "import pandas as pd\n",
    "import matplotlib.pyplot as plt\n",
    "from MemoryAutoScaling import analysis, plotting, specs, utils\n",
    "\n",
    "pd.set_option('display.max_columns', None)"
   ]
  },
  {
   "cell_type": "markdown",
   "id": "ff72f77e",
   "metadata": {},
   "source": [
    "### Function Definitions"
   ]
  },
  {
   "cell_type": "code",
   "execution_count": null,
   "id": "17378d2e",
   "metadata": {},
   "outputs": [],
   "source": [
    "def plot_utilization_cdf(stat_df, resource_name):\n",
    "    \"\"\"Plots a CDF of utilization for `resource_name` from `stat_df`.\n",
    "    \n",
    "    Parameters\n",
    "    ----------\n",
    "    stat_df: pd.DataFrame\n",
    "        A pandas DataFrame containing the utilization statistics.\n",
    "    resource_name: str\n",
    "        A string representing the name of the resource to which the utilization rates apply.\n",
    "    \n",
    "    Returns\n",
    "    -------\n",
    "    None\n",
    "    \n",
    "    \"\"\"\n",
    "    utilization_vals = utils.impute_for_time_series(stat_df['utilization'].values, 0.0)\n",
    "    plt.figure(figsize=(20, 10))\n",
    "    x, y = plotting.get_cdf_values(utilization_vals)\n",
    "    plt.plot(x, y)\n",
    "    plt.title(\"CDF of {} Utilization Rates Across Traces\".format(resource_name))\n",
    "    plt.xlabel(\"Utilization Rate\")\n",
    "    plt.show()"
   ]
  },
  {
   "cell_type": "code",
   "execution_count": null,
   "id": "503bd593",
   "metadata": {},
   "outputs": [],
   "source": [
    "def plot_all_correlations_for_lag(stat_df, stats_col, lag):\n",
    "    \"\"\"Plots all correlations for `stats_col` in `stat_df` at `lag`.\n",
    "    \n",
    "    Parameters\n",
    "    ----------\n",
    "    stat_df: pd.DataFrame\n",
    "        A pandas DataFrame containing the correlation statistics for `stats_col`.\n",
    "    stats_col: str\n",
    "        A string representing the column for which the correlations are computed. Each\n",
    "        correlation is another variable versus `stats_col`.\n",
    "    lag: int\n",
    "        An integer representing the lag used in the correlation calculations. For each\n",
    "        correlation plotted, the correlation is between `stats_col` and another variable\n",
    "        lagged by `lag` time steps.\n",
    "    \n",
    "    Returns\n",
    "    -------\n",
    "    None\n",
    "    \n",
    "    \"\"\"\n",
    "    plt.figure(figsize=(20, 10))\n",
    "    for col_name in specs.get_trace_columns():\n",
    "        x, y = plotting.get_cdf_values(stat_df[\"corr_{0}_lag_{1}\".format(col_name, lag)].abs().values)\n",
    "        plt.plot(x, y,label=col_name)\n",
    "    plt.title(\"{0} Usage Correlations - Lag {1}\".format(stats_col, lag))\n",
    "    plt.legend()\n",
    "    plt.show()"
   ]
  },
  {
   "cell_type": "code",
   "execution_count": null,
   "id": "1d4cbbe5",
   "metadata": {},
   "outputs": [],
   "source": [
    "def plot_all_correlations_across_all_lags(stat_df, stats_col):\n",
    "    \"\"\"Plots all correlations for `stats_col` in `stat_df` across all lags.\n",
    "    \n",
    "    Parameters\n",
    "    ----------\n",
    "    stat_df: pd.DataFrame\n",
    "        A pandas DataFrame containing the correlation statistics for `stats_col`.\n",
    "    stats_col: str\n",
    "        A string representing the column for which the correlations are computed. Each\n",
    "        correlation is another variable versus `stats_col`.\n",
    "    \n",
    "    Returns\n",
    "    -------\n",
    "    None\n",
    "    \n",
    "    \"\"\"\n",
    "    for lag in [1, 2, 3]:\n",
    "        plot_all_correlations_for_lag(stat_df, stats_col, lag)"
   ]
  },
  {
   "cell_type": "code",
   "execution_count": null,
   "id": "06d46048",
   "metadata": {},
   "outputs": [],
   "source": [
    "def print_stationarity_results(stat_df):\n",
    "    \"\"\"Prints the results of the stationarity tests in `stat_df`.\n",
    "    \n",
    "    Parameters\n",
    "    ----------\n",
    "    stat_df: pd.DataFrame\n",
    "        A pandas DataFrame containing the statistics for traces, including\n",
    "        tests for stationarity in columns `adf_p_val`, `adf_p_val_diff` and\n",
    "        `adf_p_val_diff_2`.\n",
    "    \n",
    "    Returns\n",
    "    -------\n",
    "    None\n",
    "    \n",
    "    \"\"\"\n",
    "    print(\"Stationarity Results\")\n",
    "    stationary_dict = analysis.stationary_results_from_stats_df(stat_df)\n",
    "    print(\"Number of Stationary Traces: {}%\".format(stationary_dict['diff_0']))\n",
    "    print(\"Number of Stationary Traces after 1 Level Differencing: {}%\".format(stationary_dict['diff_1']))\n",
    "    print(\"Number of Stationary Traces after 2 Level Differencing: {}%\".format(stationary_dict['diff_2']))\n",
    "    print(\"Other: {}%\".format(stationary_dict['other']))"
   ]
  },
  {
   "cell_type": "code",
   "execution_count": null,
   "id": "e998560f",
   "metadata": {},
   "outputs": [],
   "source": [
    "def print_correlation_results(stat_df, target_col, corr_cols):\n",
    "    \"\"\"Prints a summary of correlation results for `target_col` vs other time series.\n",
    "    \n",
    "    Parameters\n",
    "    ----------\n",
    "    stat_df: pd.DataFrame\n",
    "        A pandas DataFrame containing the statistics for traces.\n",
    "    target_col: str\n",
    "        A string representing the name of the target column for which the correlations are generated.\n",
    "    corr_cols: list\n",
    "        A list of columns for which the correlation results are retrieved.\n",
    "    \n",
    "    Returns\n",
    "    -------\n",
    "    None\n",
    "    \n",
    "    \"\"\"\n",
    "    print(\"Correlation Results\")\n",
    "    for col_name in corr_cols:\n",
    "        corr_count = len(stat_df[stat_df[\"corr_{}_ts\".format(col_name)].abs() >= 0.7])\n",
    "        print(\"Number of traces with correlation of {0} and {1} >= 0.7 or <= -0.7: {2}\".format(\n",
    "            target_col, col_name, corr_count))"
   ]
  },
  {
   "cell_type": "code",
   "execution_count": null,
   "id": "e1400619",
   "metadata": {},
   "outputs": [],
   "source": [
    "def print_statistical_analysis_summary(stat_df, target_col, corr_cols):\n",
    "    \"\"\"Prints a summary of the results of `stat_df` for `target_col`.\n",
    "    \n",
    "    Parameters\n",
    "    ----------\n",
    "    stat_df: pd.DataFrame\n",
    "        A pandas DataFrame containing the statistics for traces.\n",
    "    target_col: str\n",
    "        A string representing the name of the target column for which the statistics are generated.\n",
    "    corr_cols: list\n",
    "        A list of columns for which the correlation results are retrieved.\n",
    "    \n",
    "    Returns\n",
    "    -------\n",
    "    None\n",
    "    \n",
    "    \"\"\"\n",
    "    print(\"Total Trace Count: {}\".format(len(stat_df)))\n",
    "    print()\n",
    "    print_stationarity_results(stat_df)\n",
    "    print()\n",
    "    print_correlation_results(stat_df, target_col, corr_cols)"
   ]
  },
  {
   "cell_type": "code",
   "execution_count": null,
   "id": "75be4c36",
   "metadata": {},
   "outputs": [],
   "source": [
    "def plot_lagged_cdfs(data_df, col_name, col_title, stats_col):\n",
    "    \"\"\"Plots the lagged CDFs for `col_name`.\n",
    "    \n",
    "    Parameters\n",
    "    ----------\n",
    "    data_df: pd.DataFrame\n",
    "        The pandas DataFrame containing the distributions for the CDFs\n",
    "    col_name: str\n",
    "        A string representing the column for which the CDFs are generated.\n",
    "    col_title: str\n",
    "        A string representing the column title for the CDFs.\n",
    "    stats_col: str\n",
    "        A string representing the name of the column for which all statistics\n",
    "        are generated.\n",
    "    \n",
    "    Returns\n",
    "    -------\n",
    "    None\n",
    "    \n",
    "    \"\"\"\n",
    "    fig, axes = plt.subplots(2, 2, figsize=(20, 8))\n",
    "    lags = [0, 1, 2, 3]\n",
    "    col_names = [\"corr_{}\".format(col_name)] + [\"corr_{0}_lag_{1}\".format(col_name, lag) for lag in lags[1:]]\n",
    "    colors = [\"blue\", \"black\", \"green\", \"red\"]\n",
    "    for idx in range(4):\n",
    "        row = idx // 2\n",
    "        col = idx % 2\n",
    "        data_vals = data_df[col_names[idx]].abs().values\n",
    "        data_vals = data_vals[~np.isnan(data_vals)]\n",
    "        plotting.plot_cumulative_distribution_function(data_vals, axes[row, col],\n",
    "                                                       \"{0} Lag {1}\".format(col_title, lags[idx]), colors[idx],\n",
    "                                                       \"CDF of Correlation of {} Usage\".format(stats_col))\n",
    "    plt.show()"
   ]
  },
  {
   "cell_type": "code",
   "execution_count": null,
   "id": "linear-prize",
   "metadata": {},
   "outputs": [],
   "source": [
    "def print_all_cdfs_for_stats(data_df, col_name, col_title, stats_col, is_max=True):\n",
    "    \"\"\"Prints all of the CDFs for the correlations for `col_name` across all stats.\n",
    "    \n",
    "    Parameters\n",
    "    ----------\n",
    "    data_df: pd.DataFrame\n",
    "        The pandas DataFrame containing the distributions for the CDFs\n",
    "    col_name: str\n",
    "        A string representing the column for which the CDFs are generated.\n",
    "    col_title: str\n",
    "        A string representing the column title for the CDFs.\n",
    "    stats_col: str\n",
    "        A string representing the name of the column for which all statistics\n",
    "        are generated.\n",
    "    is_max: bool\n",
    "        A boolean indicating whether `col_name` corresponds to a maximum column.\n",
    "    \n",
    "    Returns\n",
    "    -------\n",
    "    None\n",
    "    \n",
    "    \"\"\"\n",
    "    if is_max:\n",
    "        col_names = [\"{0}_{1}\".format(col_name, stat) for stat in specs.MAX_STATS_COLS]\n",
    "    else:\n",
    "        col_names = [\"{0}_{1}\".format(col_name, stat) for stat in specs.AVG_STATS_COLS]\n",
    "    for name in col_names:\n",
    "        print(name)\n",
    "        plot_lagged_cdfs(data_df, name, col_title, stats_col)\n",
    "        print(\"------------------------------------------------------------------------\")"
   ]
  },
  {
   "cell_type": "code",
   "execution_count": null,
   "id": "155d87a5",
   "metadata": {},
   "outputs": [],
   "source": [
    "def plot_all_lagged_correlation_cdfs(stat_df, stats_col):\n",
    "    \"\"\"Plots all of the CDFs for the correlations in `stat_df`.\n",
    "    \n",
    "    Parameters\n",
    "    ----------\n",
    "    stat_df: pd.DataFrame\n",
    "        The pandas DataFrame containing the distributions for the CDFs.\n",
    "    stats_col: str\n",
    "        A string representing the name of the column for which all statistics\n",
    "        are generated.\n",
    "    \n",
    "    Returns\n",
    "    -------\n",
    "    None\n",
    "    \n",
    "    \"\"\"\n",
    "    for idx in range(len(specs.RAW_TIME_SERIES_COLS)):\n",
    "        col_name = specs.RAW_TIME_SERIES_NAMES[idx]\n",
    "        is_max = (col_name.split()[0] == \"Maximum\")\n",
    "        print_all_cdfs_for_stats(stat_df, specs.RAW_TIME_SERIES_COLS[idx], col_name, stats_col, is_max)"
   ]
  },
  {
   "cell_type": "code",
   "execution_count": null,
   "id": "40ca58a7",
   "metadata": {},
   "outputs": [],
   "source": [
    "def plot_causal_cdfs(data_df, col_name, test_name, col_title):\n",
    "    \"\"\"Plots the causal CDFs for `col_name`.\n",
    "    \n",
    "    Parameters\n",
    "    ----------\n",
    "    data_df: pd.DataFrame\n",
    "        The pandas DataFrame containing the distributions for the CDFs\n",
    "    col_name: str\n",
    "        A string representing the column for which the CDFs are generated.\n",
    "    test_name: str\n",
    "        A string representing the name of the causality test.\n",
    "    col_title: str\n",
    "        A string representing the column title for the CDFs.\n",
    "    \n",
    "    Returns\n",
    "    -------\n",
    "    None\n",
    "    \n",
    "    \"\"\"\n",
    "    fig, axes = plt.subplots(3, figsize=(20, 20))\n",
    "    lags = [1, 2, 3]\n",
    "    col_names = [\"causal_{0}_{1}_{2}\".format(col_name, test_name, lag) for lag in lags]\n",
    "    colors = [\"blue\", \"black\", \"green\"]\n",
    "    for idx in range(3):\n",
    "        data_vals = data_df[col_names[idx]].abs().values\n",
    "        data_vals = data_vals[~np.isnan(data_vals)]\n",
    "        plotting.plot_cumulative_distribution_function(data_df[col_names[idx]].abs().values, axes[idx],\n",
    "                                                       \"{0} Lag {1}\".format(col_title, lags[idx]), colors[idx],\n",
    "                                                       \"CDF of Causation P-Values\")\n",
    "    plt.show()"
   ]
  },
  {
   "cell_type": "code",
   "execution_count": null,
   "id": "6b7e557a",
   "metadata": {},
   "outputs": [],
   "source": [
    "def plot_all_causal_cdfs(stat_df, causal_cols, causal_titles, test_name):\n",
    "    \"\"\"Plots all causal CDFs for the columns in `causal_cols`.\n",
    "    \n",
    "    Parameters\n",
    "    ----------\n",
    "    stat_df: pd.DataFrame\n",
    "        The pandas DataFrame containing the distributions for the CDFs\n",
    "    causal_cols: list\n",
    "        A list of strings denoting the names of the columns used in the causality tests.\n",
    "    causal_titles: list\n",
    "        A list of strings representing the titles for the CDFs.\n",
    "    test_name: str\n",
    "        A string representing the name of the causality test.\n",
    "    \n",
    "    Returns\n",
    "    -------\n",
    "    None\n",
    "    \n",
    "    \"\"\"\n",
    "    for idx in range(len(causal_cols)):\n",
    "        print(causal_cols[idx])\n",
    "        plot_causal_cdfs(stat_df, \"{}_ts\".format(causal_cols[idx]), test_name, causal_titles[idx])"
   ]
  },
  {
   "cell_type": "code",
   "execution_count": null,
   "id": "d5caeeec",
   "metadata": {},
   "outputs": [],
   "source": [
    "def summarize_statistical_results(input_dir, target_col, causal_test, stats_col):\n",
    "    \"\"\"Summarizes the statistical results in `input_dir` for `target_col`.\n",
    "    \n",
    "    Parameters\n",
    "    ----------\n",
    "    input_dir: str\n",
    "        A string representing the path of the directory containing the results.\n",
    "    target_col: str\n",
    "        A string representing the name of the column serving as the target variable for analysis.\n",
    "    causal_test: str\n",
    "        A string representing the name of the causality test being summarized.\n",
    "    stats_col: str\n",
    "        A string representing the name of the column for which all statistics\n",
    "        are generated.\n",
    "    \n",
    "    Returns\n",
    "    -------\n",
    "    None\n",
    "    \n",
    "    \"\"\"\n",
    "    stats_data = pd.read_csv(os.path.join(input_dir, \"trace_stats.csv\"))\n",
    "    target_idx = specs.RAW_TIME_SERIES_COLS.index(target_col)\n",
    "    causal_cols = [specs.RAW_TIME_SERIES_COLS[idx] \n",
    "                   for idx in range(len(specs.RAW_TIME_SERIES_COLS)) if idx != target_idx]\n",
    "    causal_titles = [specs.RAW_TIME_SERIES_NAMES[idx]\n",
    "                     for idx in range(len(specs.RAW_TIME_SERIES_NAMES)) if idx != target_idx]\n",
    "    print_statistical_analysis_summary(stats_data, target_col, causal_cols)\n",
    "    print()\n",
    "    plot_utilization_cdf(stats_data, stats_col.split()[-1])\n",
    "    plot_all_correlations_across_all_lags(stats_data, stats_col)\n",
    "    plot_all_lagged_correlation_cdfs(stats_data, stats_col)\n",
    "    print()\n",
    "    plot_all_causal_cdfs(stats_data, causal_cols, causal_titles, causal_test)\n",
    "    return stats_data"
   ]
  },
  {
   "cell_type": "code",
   "execution_count": null,
   "id": "eaaca5b0",
   "metadata": {},
   "outputs": [],
   "source": [
    "stats_dfs = {}"
   ]
  },
  {
   "cell_type": "markdown",
   "id": "6a4b2968",
   "metadata": {},
   "source": [
    "### Maximum Memory Usage - 3 Period Aggregation"
   ]
  },
  {
   "cell_type": "code",
   "execution_count": null,
   "id": "e7eb9de7",
   "metadata": {
    "scrolled": false
   },
   "outputs": [],
   "source": [
    "max_mem_3_dir = \"/Users/mattb/Desktop/Courses/MemoryAutoScaling/output_data/max_mem_3\"\n",
    "stats_dfs['max_mem_agg_3'] = summarize_statistical_results(max_mem_3_dir, specs.MAX_MEM_COL, \"ssr_chi2test\", \"Maximum Memory\")"
   ]
  },
  {
   "cell_type": "markdown",
   "id": "1a8b163e",
   "metadata": {},
   "source": [
    "### Maximum CPU Usage - 3 Period Aggregation"
   ]
  },
  {
   "cell_type": "code",
   "execution_count": null,
   "id": "71db04eb",
   "metadata": {
    "scrolled": true
   },
   "outputs": [],
   "source": [
    "max_cpu_3_dir = \"/Users/mattb/Desktop/Courses/MemoryAutoScaling/output_data/max_cpu_3\"\n",
    "stats_dfs['max_cpu_agg_3'] = summarize_statistical_results(max_cpu_3_dir, specs.MAX_CPU_COL, \"ssr_chi2test\", \"Maximum CPU\")"
   ]
  },
  {
   "cell_type": "markdown",
   "id": "1f21af85",
   "metadata": {},
   "source": [
    "### Maximum Memory Usage - 24 Period Aggregation"
   ]
  },
  {
   "cell_type": "code",
   "execution_count": null,
   "id": "a7de19c5",
   "metadata": {},
   "outputs": [],
   "source": [
    "max_mem_24_dir = \"/Users/mattb/Desktop/Courses/MemoryAutoScaling/output_data/max_mem_24\"\n",
    "stats_dfs['max_mem_agg_24'] = summarize_statistical_results(max_mem_24_dir, specs.MAX_MEM_COL, \"ssr_chi2test\", \"Maximum Memory\")"
   ]
  },
  {
   "cell_type": "markdown",
   "id": "eb105565",
   "metadata": {},
   "source": [
    "### Maximum CPU Usage - 24 Period Aggregation"
   ]
  },
  {
   "cell_type": "code",
   "execution_count": null,
   "id": "5827690e",
   "metadata": {},
   "outputs": [],
   "source": [
    "max_cpu_24_dir = \"/Users/mattb/Desktop/Courses/MemoryAutoScaling/output_data/max_cpu_24\"\n",
    "stats_dfs['max_cpu_agg_24'] = summarize_statistical_results(max_cpu_24_dir, specs.MAX_CPU_COL, \"ssr_chi2test\", \"Maximum CPU\")"
   ]
  },
  {
   "cell_type": "code",
   "execution_count": null,
   "id": "8c9166e5",
   "metadata": {},
   "outputs": [],
   "source": [
    "analysis.get_stationary_results_df(stats_dfs)"
   ]
  }
 ],
 "metadata": {
  "kernelspec": {
   "display_name": "Python 3",
   "language": "python",
   "name": "python3"
  },
  "language_info": {
   "codemirror_mode": {
    "name": "ipython",
    "version": 3
   },
   "file_extension": ".py",
   "mimetype": "text/x-python",
   "name": "python",
   "nbconvert_exporter": "python",
   "pygments_lexer": "ipython3",
   "version": "3.6.13"
  }
 },
 "nbformat": 4,
 "nbformat_minor": 5
}
