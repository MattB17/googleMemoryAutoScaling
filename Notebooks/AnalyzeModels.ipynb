{
 "cells": [
  {
   "cell_type": "markdown",
   "id": "352c7664",
   "metadata": {},
   "source": [
    "# Analyze Model Results"
   ]
  },
  {
   "cell_type": "code",
   "execution_count": null,
   "id": "2025a89a",
   "metadata": {},
   "outputs": [],
   "source": [
    "import os\n",
    "import numpy as np\n",
    "import pandas as pd\n",
    "import matplotlib.pyplot as plt\n",
    "import seaborn as sns\n",
    "from itertools import product\n",
    "from MemoryAutoScaling import analysis, plotting, specs\n",
    "from MemoryAutoScaling.Analysis import HarvestStats\n",
    "\n",
    "pd.set_option('display.max_columns', None)"
   ]
  },
  {
   "cell_type": "markdown",
   "id": "442d6a15",
   "metadata": {},
   "source": [
    "### Function Definitions"
   ]
  },
  {
   "cell_type": "code",
   "execution_count": null,
   "id": "a0917b26",
   "metadata": {},
   "outputs": [],
   "source": [
    "def render_params_bar_plot(params, counts, model_name):\n",
    "    \"\"\"Renders a bar plot of `params` for `model_name` based on `counts`.\n",
    "    \n",
    "    Parameters\n",
    "    ----------\n",
    "    params: np.array\n",
    "        A numpy array of the most common optimal parameters.\n",
    "    counts: np.array\n",
    "        A numpy array of integers representing counts for the parameters.\n",
    "    model_name: str\n",
    "        A string representing the name of the model.\n",
    "    \n",
    "    Returns\n",
    "    -------\n",
    "    None\n",
    "    \n",
    "    \"\"\"\n",
    "    n = len(params)\n",
    "    plt.figure(figsize=(20, 10))\n",
    "    plt.bar(range(n), counts)\n",
    "    plt.xticks(range(n), params, rotation=-15)\n",
    "    plt.title(\"{} Model Most Common Optimal Parameter\".format(model_name.upper()))\n",
    "    plt.show()"
   ]
  },
  {
   "cell_type": "code",
   "execution_count": null,
   "id": "ce264b2c",
   "metadata": {},
   "outputs": [],
   "source": [
    "def plot_most_prominent_params(model_results_df, top_params_count, model_name):\n",
    "    \"\"\"A plot of the `top_params_count` most prominent parameters in `model_results_df`.\n",
    "    \n",
    "    Parameters\n",
    "    ----------\n",
    "    model_results_df: pd.DataFrame\n",
    "        A pandas DataFrame containing model results.\n",
    "    top_params_count: int\n",
    "        An integer representing the number of parameters to be included in the plot.\n",
    "        The `top_params_count` most prominent parameters of `model_results_df` are plotted.\n",
    "    model_name: str\n",
    "        A string representing the name of the model.\n",
    "    \n",
    "    Returns\n",
    "    -------\n",
    "    None\n",
    "    \n",
    "    \"\"\"\n",
    "    params_data = model_results_df.groupby('params_{}'.format(model_name))['id'].count()\n",
    "    params_data = params_data.sort_values(ascending=False)\n",
    "    if len(params_data) > 5:\n",
    "        params_data = params_data[:5]\n",
    "    render_params_bar_plot(params_data.index, params_data.values, model_name)"
   ]
  },
  {
   "cell_type": "code",
   "execution_count": null,
   "id": "cbb383ec",
   "metadata": {},
   "outputs": [],
   "source": [
    "def build_model_result_cdfs(model_results_df, model_name):\n",
    "    \"\"\"Builds CDFs of model result statistics for `model_name` from `model_results_df`.\n",
    "    \n",
    "    The CDFs are built for each model result statistic across all the traces modeled.\n",
    "    \n",
    "    Parameters\n",
    "    ----------\n",
    "    model_results_df: pd.DataFrame\n",
    "        A pandas DataFrame containing the model results for all traces.\n",
    "    model_name: str\n",
    "        A string representing the name of the model fit to the traces.\n",
    "    \n",
    "    Returns\n",
    "    -------\n",
    "    None\n",
    "    \n",
    "    \"\"\"\n",
    "    fig, axes = plt.subplots(1, 2, figsize=(20, 10))\n",
    "    colors = [\"blue\", \"red\"]\n",
    "    col_lst = [\"test_mase\", \"under_mase\"]\n",
    "    for idx in range(len(colors)):\n",
    "        col_name = \"{0}_{1}\".format(col_lst[idx], model_name)\n",
    "        data_vals = model_results_df[col_name].values\n",
    "        title_comps = col_name.title().split(\"_\")\n",
    "        title = \" \".join(title_comps[:-1]) + \" {}\".format(title_comps[-1].upper())\n",
    "        plotting.plot_cumulative_distribution_function(\n",
    "            data_vals, axes[idx], title, colors[idx], \"CDF\")"
   ]
  },
  {
   "cell_type": "code",
   "execution_count": null,
   "id": "f1271351",
   "metadata": {},
   "outputs": [],
   "source": [
    "def plot_harvest_df_cdfs(harvest_df, harvest_stat_cols, buffer_pct):\n",
    "    \"\"\"Plots CDFs of `harvest_stat_cols` from `harvest_df` at `buffer_pct`.\n",
    "    \n",
    "    Plots a cumulative distribution function for each column of `harvest_df`\n",
    "    based on the columns in `harvest_stat_cols` and `buffer_pct`.\n",
    "    \n",
    "    Parameters\n",
    "    ----------\n",
    "    harvest_df: pd.DataFrame\n",
    "        A pandas DataFrame containing the harvest data to be plotted acrosss\n",
    "        all traces.\n",
    "    harvest_stat_cols: list\n",
    "        A list of strings representing the names of the columns to be plotted\n",
    "        from `harvest_df`.\n",
    "    buffer_pct: float\n",
    "        A float representing the buffer percentage used to calculate the harvest\n",
    "        statistics in `harvest_df`.\n",
    "    \n",
    "    Returns\n",
    "    -------\n",
    "    None\n",
    "    \n",
    "    \"\"\"\n",
    "    fig, axes = plt.subplots(1, 2, figsize=(20, 10))\n",
    "    colors = [\"blue\", \"red\"]\n",
    "    for idx in range(2):\n",
    "        col_name = harvest_stat_cols[idx]\n",
    "        data_vals = harvest_df[col_name].values\n",
    "        title = \"{0} With {1}% Buffer\".format(\" \".join(col_name.title().split(\"_\")), int(buffer_pct * 100))\n",
    "        plotting.plot_cumulative_distribution_function(data_vals, axes[idx], title, colors[idx], \"CDF\")\n",
    "    plt.show()"
   ]
  },
  {
   "cell_type": "code",
   "execution_count": null,
   "id": "c09132cb",
   "metadata": {},
   "outputs": [],
   "source": [
    "def plot_harvest_df_scatter(harvest_df, harvest_stat_cols, buffer_pct):\n",
    "    \"\"\"A scatterplot for `harvest_stat_cols` based on the data in `harvest_df`.\n",
    "    \n",
    "    Parameters\n",
    "    ----------\n",
    "    harvest_df: pd.DataFrame\n",
    "        A pandas DataFrame containing the harvest data to be plotted acrosss\n",
    "        all traces.\n",
    "    harvest_stat_cols: list\n",
    "        A list of strings representing the names of the columns to be plotted\n",
    "        from `harvest_df`.\n",
    "    buffer_pct: float\n",
    "        A float representing the buffer percentage used to calculate the harvest\n",
    "        statistics in `harvest_df`.\n",
    "    \n",
    "    Returns\n",
    "    -------\n",
    "    None\n",
    "    \n",
    "    \"\"\"\n",
    "    plt.figure(figsize=(20, 10))\n",
    "    plt.scatter(harvest_df[harvest_stat_cols[0]].values, harvest_df[harvest_stat_cols[1]].values)\n",
    "    plt.xlabel(\" \".join(harvest_stat_cols[0].split(\"_\")).title())\n",
    "    plt.ylabel(\" \".join(harvest_stat_cols[1].split(\"_\")).title())\n",
    "    plt.ylim(-0.05, 1.05)\n",
    "    plt.title(\"Harvest Statistics with {}% Buffer\".format(int(buffer_pct*100)))\n",
    "    plt.show()"
   ]
  },
  {
   "cell_type": "code",
   "execution_count": null,
   "id": "189f958a",
   "metadata": {},
   "outputs": [],
   "source": [
    "def print_summary_for_buffer(model_harvest_df, harvest_stats_cols, pct_buffer, model_name):\n",
    "    \"\"\"A summary of `model_harvest_df` for `harvest_stats_cols` at `pct_buffer`.\n",
    "    \n",
    "    The summary consists of cumulative distribution functions for the columns of\n",
    "    `model_harvest_df` indicated by `harvest_stats_cols` at `pct_buffer`. In\n",
    "    addition, the summary contains a summary of these columns in table format.\n",
    "    \n",
    "    Parameters\n",
    "    ----------\n",
    "    model_harvest_df: pd.DataFrame\n",
    "        A pandas DataFrame containing the harvest statistics results for\n",
    "        `harvest_stats_cols` at `pct_buffer`.\n",
    "    harvest_stats_cols: list\n",
    "        A list of strings representing the names of the columns for which the\n",
    "        summary is generated.\n",
    "    pct_buffer: float\n",
    "        A float representing the buffer percentage used to generate the harvest\n",
    "        statistics.\n",
    "    model_name: str\n",
    "        A string representing the name of the model for which the results were \n",
    "        generated.\n",
    "    \n",
    "    Returns\n",
    "    -------\n",
    "    None\n",
    "    \n",
    "    \"\"\"\n",
    "    buffer_harvest_cols = [\"{0}_{1}_{2}\".format(\n",
    "                                harvest_col, pct_buffer, model_name) \n",
    "                           for harvest_col in harvest_stats_cols]\n",
    "    buffer_harvest_df = model_harvest_df[buffer_harvest_cols].abs()\n",
    "    buffer_harvest_df.columns = harvest_stats_cols\n",
    "    plot_harvest_df_cdfs(buffer_harvest_df, harvest_stats_cols, pct_buffer)\n",
    "    plot_harvest_df_scatter(buffer_harvest_df, harvest_stats_cols, pct_buffer)\n",
    "    print(buffer_harvest_df.describe())"
   ]
  },
  {
   "cell_type": "code",
   "execution_count": null,
   "id": "46e5069a",
   "metadata": {},
   "outputs": [],
   "source": [
    "def summarize_harvest_results_for_model_results_df(model_results_df, model_name):\n",
    "    \"\"\"Summarizes the model results for `model_name` in `model_results_df`.\n",
    "    \n",
    "    A summary is created for each buffer percentage for which the harvest statistics\n",
    "    in `model_results_df` were generated.\n",
    "    \n",
    "    Parameters\n",
    "    ----------\n",
    "    model_results_df: pd.DataFrame\n",
    "        A pandas DataFrame containing the best model results for each trace\n",
    "        when a model of class `model_name` was tuned on the trace.\n",
    "    model_name: str\n",
    "        A string representing the name of the model for which the results were\n",
    "        generated.\n",
    "    \n",
    "    Returns\n",
    "    -------\n",
    "    None\n",
    "    \n",
    "    \"\"\"\n",
    "    harvest_stat_columns = HarvestStats.get_harvest_stat_columns()\n",
    "    for buf_pct in specs.BUFFER_PCTS:\n",
    "        print_summary_for_buffer(\n",
    "            model_results_df, harvest_stat_columns, buf_pct, model_name)"
   ]
  },
  {
   "cell_type": "code",
   "execution_count": null,
   "id": "19f7084a",
   "metadata": {},
   "outputs": [],
   "source": [
    "def get_model_results(data_dir, top_params_count, model_name):\n",
    "    \"\"\"Retrieves the model results for `model_name` from `data_dir`.\n",
    "    \n",
    "    Parameters\n",
    "    ----------\n",
    "    data_dir: str\n",
    "        A string representing the directory containing the model results.\n",
    "    top_params_count: int\n",
    "        An integer representing the number of parameters to be included in the plot.\n",
    "        The `top_params_count` most prominent parameters of `model_results_df` are plotted.\n",
    "    model_name: str\n",
    "        A string representing the name of the model for which results are retrieved.\n",
    "    \n",
    "    Returns\n",
    "    -------\n",
    "    pd.DataFrame\n",
    "        A pandas DataFrame containing the model results.\n",
    "    \n",
    "    \"\"\"\n",
    "    model_df = pd.read_csv(os.path.join(data_dir, \"{}_results.csv\".format(model_name)))\n",
    "    model_df = model_df[~np.isnan(model_df['test_mase_{}'.format(model_name)])]\n",
    "    print(model_df.describe())\n",
    "    plot_most_prominent_params(model_df, top_params_count, model_name)\n",
    "    build_model_result_cdfs(model_df, model_name)\n",
    "    summarize_harvest_results_for_model_results_df(model_df, model_name)\n",
    "    return model_df"
   ]
  },
  {
   "cell_type": "code",
   "execution_count": null,
   "id": "63802be7",
   "metadata": {},
   "outputs": [],
   "source": [
    "def plot_cdfs_across_models(results_dfs, cdf_col):\n",
    "    \"\"\"Plots the CDFs of `cdf_col` across the models of `results_dfs`.\n",
    "    \n",
    "    Parameters\n",
    "    ----------\n",
    "    results_dfs: dict\n",
    "        A dictionary of model results. The keys are strings representing the\n",
    "        name of the model. The corresponding value is a pandas DataFrame\n",
    "        recording results for the model across all traces.\n",
    "    cdf_col: str\n",
    "        A string representing the name of the variable for which the CDFs are\n",
    "        generated.\n",
    "    \n",
    "    Returns\n",
    "    -------\n",
    "    None\n",
    "    \n",
    "    \"\"\"\n",
    "    styles = ['b-', 'g--', 'r-.', 'c:', 'm.', 'bo', 'k^']\n",
    "    plt.figure(figsize=(20, 10))\n",
    "    idx = 0\n",
    "    for model_name in results_dfs.keys():\n",
    "        dist_vals = results_dfs[model_name][\"{0}_{1}\".format(cdf_col, model_name)].values\n",
    "        x, y = plotting.get_cdf_values(dist_vals)\n",
    "        plt.plot(x, y, styles[idx], label=model_name.upper())\n",
    "        idx += 1\n",
    "    plt.title(\"CDFs of {} Across Models\".format(\" \".join(cdf_col.title().split(\"_\"))))\n",
    "    plt.legend()\n",
    "    plt.show()"
   ]
  },
  {
   "cell_type": "code",
   "execution_count": null,
   "id": "6854e9ec",
   "metadata": {},
   "outputs": [],
   "source": [
    "def plot_harvest_cdfs_across_models(results_dfs, cdf_col):\n",
    "    \"\"\"Plots the CDFs of `cdf_col` across the models of `results_dfs`.\n",
    "    \n",
    "    Parameters\n",
    "    ----------\n",
    "    results_dfs: dict\n",
    "        A dictionary of model results. The keys are strings representing the\n",
    "        name of the model. The corresponding value is a pandas DataFrame\n",
    "        recording results for the model across all traces.\n",
    "    cdf_col: str\n",
    "        A string representing the name of the variable for which the CDFs are\n",
    "        generated.\n",
    "    \n",
    "    Returns\n",
    "    -------\n",
    "    None\n",
    "    \n",
    "    \"\"\"\n",
    "    styles = ['b-', 'g--', 'r-.', 'c:', 'm.', 'bo', 'k^']\n",
    "    plt.figure(figsize=(20, 10))\n",
    "    idx = 0\n",
    "    for model_name in results_dfs.keys():\n",
    "        dist_vals = results_dfs[model_name][\"{0}_{1}\".format(cdf_col, model_name)].values\n",
    "        x, y = plotting.get_cdf_values(dist_vals)\n",
    "        plt.plot(x, y, styles[idx], label=model_name.upper())\n",
    "        idx += 1\n",
    "    cdf_col_comps = cdf_col.split(\"_\")\n",
    "    buffer = int(float(cdf_col_comps[-1]) * 100)\n",
    "    col_name = \" \".join(cdf_col_comps[:-1]).title()\n",
    "    plt.title(\"CDFs of {0} Across Models with {1}% Buffer\".format(col_name, buffer))\n",
    "    plt.ylim(-0.05, 1.05)\n",
    "    plt.legend()\n",
    "    plt.show()"
   ]
  },
  {
   "cell_type": "code",
   "execution_count": null,
   "id": "f4540176",
   "metadata": {},
   "outputs": [],
   "source": [
    "def plot_all_cdfs_across_models(results_dfs):\n",
    "    \"\"\"Plots all of the model result CDFs across the models of `results_dfs`.\n",
    "    \n",
    "    Parameters\n",
    "    ----------\n",
    "    results_dfs: dict\n",
    "        A dictionary of model results. The keys are strings representing the\n",
    "        name of the model. The corresponding value is a pandas DataFrame\n",
    "        recording results for the model across all traces.\n",
    "    \n",
    "    Returns\n",
    "    -------\n",
    "    None\n",
    "    \n",
    "    \"\"\"\n",
    "    for cdf_col in [\"test_mase\", \"under_mase\"]:\n",
    "        plot_cdfs_across_models(results_dfs, cdf_col)\n",
    "    for cdf_col in HarvestStats.get_harvest_columns_for_buffers():\n",
    "        plot_harvest_cdfs_across_models(results_dfs, cdf_col)"
   ]
  },
  {
   "cell_type": "code",
   "execution_count": null,
   "id": "88ea6ee4",
   "metadata": {},
   "outputs": [],
   "source": [
    "def render_best_model_bar_plot(model_names, counts):\n",
    "    \"\"\"Renders a bar plot of the `counts` data for `model_names`.\n",
    "    \n",
    "    Parameters\n",
    "    ----------\n",
    "    model_names: np.array\n",
    "        A numpy array of strings representing the names of the best models.\n",
    "    counts: np.array\n",
    "        A numpy array of integers representing the counts for each model of\n",
    "        `model_names` of traces for which that model performs best.\n",
    "    \n",
    "    Returns\n",
    "    -------\n",
    "    None\n",
    "    \n",
    "    \"\"\"\n",
    "    n = len(model_names)\n",
    "    plt.figure(figsize=(20, 10))\n",
    "    plt.bar(range(n), counts)\n",
    "    plt.xticks(range(n), model_names)\n",
    "    plt.title(\"Counts of Best Model Types\")\n",
    "    plt.show()"
   ]
  },
  {
   "cell_type": "code",
   "execution_count": null,
   "id": "49fd1cef",
   "metadata": {},
   "outputs": [],
   "source": [
    "def plot_counts_of_best_model_types(best_models_df):\n",
    "    \"\"\"Plots the counts of best model types from `best_models_df`.\n",
    "    \n",
    "    A bar plot is rendered which counts the model of each type in\n",
    "    `best_models_df`.\n",
    "    \n",
    "    Parameters\n",
    "    ----------\n",
    "    best_models_df: pd.DataFrame\n",
    "        A pandas DataFrame containing the results for the best model for each\n",
    "        trace. There is a row for each trace specifying the trace id, model name,\n",
    "        model parameters, and model results.\n",
    "    \n",
    "    Returns\n",
    "    -------\n",
    "    None\n",
    "    \n",
    "    \"\"\"\n",
    "    counts_data = best_models_df.groupby('model')['id'].count()\n",
    "    counts_data = counts_data.sort_values(ascending=False)\n",
    "    render_best_model_bar_plot(counts_data.index, counts_data.values)"
   ]
  },
  {
   "cell_type": "code",
   "execution_count": null,
   "id": "7a2d2ce5",
   "metadata": {},
   "outputs": [],
   "source": [
    "def display_best_model_results_for_all_traces(data_dir):\n",
    "    \"\"\"Displays a summary of the best model results found in `data_dir`.\n",
    "    \n",
    "    A pandas DataFrame of the best model results is loaded from `data_dir`. For\n",
    "    this dataframe, summary statistics are printed. Then a bar plot is created\n",
    "    which counts the number of traces for which each model outperforms all other\n",
    "    models. Lastly, a plot of 4 CDFs summarizing the 4 model evaluation parameters\n",
    "    is plotted across all traces.\n",
    "    \n",
    "    Parameters\n",
    "    ----------\n",
    "    data_dir: str\n",
    "        A string representing the directory from which the best model results\n",
    "        are loaded.\n",
    "    \n",
    "    Returns\n",
    "    -------\n",
    "    pd.DataFrame\n",
    "        A pandas DataFrame of the best model results for each trace.\n",
    "    \n",
    "    \"\"\"\n",
    "    best_model_df = pd.read_csv(os.path.join(data_dir, \"best_model_results.csv\"))\n",
    "    print(best_model_df.describe())\n",
    "    plot_counts_of_best_model_types(best_model_df)\n",
    "    build_model_result_cdfs(best_model_df, \"best\")\n",
    "    summarize_harvest_results_for_model_results_df(best_model_df, \"best\")\n",
    "    return best_model_df"
   ]
  },
  {
   "cell_type": "code",
   "execution_count": null,
   "id": "d949b477",
   "metadata": {},
   "outputs": [],
   "source": [
    "def compare_model_harvest_results(model_dfs):\n",
    "    \"\"\"Compares model harvest percentages across models in `model_dfs`.\n",
    "    \n",
    "    For each buffer percentage a plot is rendered showing the proportion of\n",
    "    the total resource harvested across all traces for each model.\n",
    "    \n",
    "    Parameters\n",
    "    ----------\n",
    "    model_dfs: dict\n",
    "        A dictionary of model results DataFrames. The keys are strings representing\n",
    "        the names of the model and the associated value is the corresponding model\n",
    "        results DataFrame for that model.\n",
    "    \n",
    "    Returns\n",
    "    -------\n",
    "    None\n",
    "    \n",
    "    \"\"\"\n",
    "    for buffer_pct in specs.BUFFER_PCTS:\n",
    "        analysis.plot_prop_harvested_by_model(model_dfs, buffer_pct)"
   ]
  },
  {
   "cell_type": "markdown",
   "id": "5a06c08b",
   "metadata": {},
   "source": [
    "### Maximum Memory Usage - 3 Period Aggregation"
   ]
  },
  {
   "cell_type": "code",
   "execution_count": null,
   "id": "0d815356",
   "metadata": {
    "scrolled": false
   },
   "outputs": [],
   "source": [
    "max_mem_3_dir = \"/Users/mattb/Desktop/Courses/MemoryAutoScaling/output_data/max_mem_3\"\n",
    "model_results_dfs = {}"
   ]
  },
  {
   "cell_type": "code",
   "execution_count": null,
   "id": "9e9bee6e",
   "metadata": {
    "scrolled": false
   },
   "outputs": [],
   "source": [
    "model_results_dfs['ma'] = get_model_results(max_mem_3_dir, 5, \"ma\")"
   ]
  },
  {
   "cell_type": "code",
   "execution_count": null,
   "id": "3dd521c0",
   "metadata": {
    "scrolled": false
   },
   "outputs": [],
   "source": [
    "model_results_dfs['es'] = get_model_results(max_mem_3_dir, 5, \"es\")"
   ]
  },
  {
   "cell_type": "code",
   "execution_count": null,
   "id": "0da6dbbc",
   "metadata": {
    "scrolled": false
   },
   "outputs": [],
   "source": [
    "model_results_dfs['ar'] = get_model_results(max_mem_3_dir, 5, \"ar\")"
   ]
  },
  {
   "cell_type": "code",
   "execution_count": null,
   "id": "21baa36f",
   "metadata": {
    "scrolled": false
   },
   "outputs": [],
   "source": [
    "model_results_dfs['reg'] = get_model_results(max_mem_3_dir, 5, \"reg\")"
   ]
  },
  {
   "cell_type": "code",
   "execution_count": null,
   "id": "db3c571b",
   "metadata": {
    "scrolled": false
   },
   "outputs": [],
   "source": [
    "model_results_dfs['svm'] = get_model_results(max_mem_3_dir, 5, \"svm\")"
   ]
  },
  {
   "cell_type": "code",
   "execution_count": null,
   "id": "8ad49fca",
   "metadata": {
    "scrolled": false
   },
   "outputs": [],
   "source": [
    "model_results_dfs['xgb'] = get_model_results(max_mem_3_dir, 5, \"xgb\")"
   ]
  },
  {
   "cell_type": "code",
   "execution_count": null,
   "id": "15e57074",
   "metadata": {
    "scrolled": false
   },
   "outputs": [],
   "source": [
    "model_results_dfs['arima'] = get_model_results(max_mem_3_dir, 5, \"arima\")"
   ]
  },
  {
   "cell_type": "code",
   "execution_count": null,
   "id": "89b994c6",
   "metadata": {
    "scrolled": false
   },
   "outputs": [],
   "source": [
    "plot_all_cdfs_across_models(model_results_dfs)"
   ]
  },
  {
   "cell_type": "code",
   "execution_count": null,
   "id": "0d039e9f",
   "metadata": {
    "scrolled": false
   },
   "outputs": [],
   "source": [
    "compare_model_harvest_results(model_results_dfs)"
   ]
  },
  {
   "cell_type": "code",
   "execution_count": null,
   "id": "12e1990c",
   "metadata": {},
   "outputs": [],
   "source": [
    "analysis.output_best_model_results_from_model_results_dfs(model_results_dfs, max_mem_3_dir)"
   ]
  },
  {
   "cell_type": "code",
   "execution_count": null,
   "id": "be88c84c",
   "metadata": {},
   "outputs": [],
   "source": [
    "model_names = list(model_results_dfs.keys()) + ['best']"
   ]
  },
  {
   "cell_type": "code",
   "execution_count": null,
   "id": "e53f08ff",
   "metadata": {
    "scrolled": false
   },
   "outputs": [],
   "source": [
    "model_results_dfs['best'] = display_best_model_results_for_all_traces(max_mem_3_dir)"
   ]
  },
  {
   "cell_type": "code",
   "execution_count": null,
   "id": "87ec68ec",
   "metadata": {},
   "outputs": [],
   "source": [
    "print(\"Test MASE\")\n",
    "analysis.get_percentiles_df_for_model_results(model_results_dfs, model_names, \"test_mase\")"
   ]
  },
  {
   "cell_type": "code",
   "execution_count": null,
   "id": "cc145734",
   "metadata": {},
   "outputs": [],
   "source": [
    "print(\"Under Predictions MASE\")\n",
    "analysis.get_percentiles_df_for_model_results(model_results_dfs, model_names, \"under_mase\")"
   ]
  },
  {
   "cell_type": "code",
   "execution_count": null,
   "id": "85fbe658",
   "metadata": {},
   "outputs": [],
   "source": [
    "print(\"Proportion of Memory Harvest with 0% Buffer\")\n",
    "analysis.get_percentiles_df_for_model_results(model_results_dfs, model_names, \"prop_harvested_0.0\")"
   ]
  },
  {
   "cell_type": "code",
   "execution_count": null,
   "id": "f5c0e69a",
   "metadata": {},
   "outputs": [],
   "source": [
    "print(\"Proportion of Violations with 0% Buffer\")\n",
    "analysis.get_percentiles_df_for_model_results(model_results_dfs, model_names, \"prop_violations_0.0\")"
   ]
  },
  {
   "cell_type": "code",
   "execution_count": null,
   "id": "8780fed0",
   "metadata": {},
   "outputs": [],
   "source": [
    "print(\"Proportion of Memory Harvest with 25% Buffer\")\n",
    "analysis.get_percentiles_df_for_model_results(model_results_dfs, model_names, \"prop_harvested_0.25\")"
   ]
  },
  {
   "cell_type": "code",
   "execution_count": null,
   "id": "15dc7af1",
   "metadata": {},
   "outputs": [],
   "source": [
    "print(\"Proportion of Violations with 25% Buffer\")\n",
    "analysis.get_percentiles_df_for_model_results(model_results_dfs, model_names, \"prop_violations_0.25\")"
   ]
  },
  {
   "cell_type": "markdown",
   "id": "8b37c3b0",
   "metadata": {},
   "source": [
    "### Maximum CPU Usage - 3 Period Aggregation"
   ]
  },
  {
   "cell_type": "code",
   "execution_count": null,
   "id": "01f46c23",
   "metadata": {},
   "outputs": [],
   "source": [
    "max_cpu_3_dir = \"/Users/mattb/Desktop/Courses/MemoryAutoScaling/output_data/max_cpu_3\"\n",
    "model_results_dfs = {}"
   ]
  },
  {
   "cell_type": "code",
   "execution_count": null,
   "id": "57a1788f",
   "metadata": {
    "scrolled": false
   },
   "outputs": [],
   "source": [
    "model_results_dfs['ma'] = get_model_results(max_cpu_3_dir, 5, \"ma\")"
   ]
  },
  {
   "cell_type": "code",
   "execution_count": null,
   "id": "080235e0",
   "metadata": {
    "scrolled": false
   },
   "outputs": [],
   "source": [
    "model_results_dfs['es'] = get_model_results(max_cpu_3_dir, 5, \"es\")"
   ]
  },
  {
   "cell_type": "code",
   "execution_count": null,
   "id": "9497d3e3",
   "metadata": {
    "scrolled": false
   },
   "outputs": [],
   "source": [
    "model_results_dfs['ar'] = get_model_results(max_cpu_3_dir, 5, \"ar\")"
   ]
  },
  {
   "cell_type": "code",
   "execution_count": null,
   "id": "c6948f86",
   "metadata": {
    "scrolled": false
   },
   "outputs": [],
   "source": [
    "model_results_dfs['reg'] = get_model_results(max_cpu_3_dir, 5, \"reg\")"
   ]
  },
  {
   "cell_type": "code",
   "execution_count": null,
   "id": "646a3945",
   "metadata": {
    "scrolled": false
   },
   "outputs": [],
   "source": [
    "model_results_dfs['svm'] = get_model_results(max_cpu_3_dir, 5, \"svm\")"
   ]
  },
  {
   "cell_type": "code",
   "execution_count": null,
   "id": "69ed16c2",
   "metadata": {
    "scrolled": false
   },
   "outputs": [],
   "source": [
    "model_results_dfs['xgb'] = get_model_results(max_cpu_3_dir, 5, \"xgb\")"
   ]
  },
  {
   "cell_type": "code",
   "execution_count": null,
   "id": "5ac35d3f",
   "metadata": {
    "scrolled": false
   },
   "outputs": [],
   "source": [
    "model_results_dfs['arima'] = get_model_results(max_cpu_3_dir, 5, \"arima\")"
   ]
  },
  {
   "cell_type": "code",
   "execution_count": null,
   "id": "18146c42",
   "metadata": {
    "scrolled": false
   },
   "outputs": [],
   "source": [
    "plot_all_cdfs_across_models(model_results_dfs)"
   ]
  },
  {
   "cell_type": "code",
   "execution_count": null,
   "id": "6c0efc86",
   "metadata": {
    "scrolled": false
   },
   "outputs": [],
   "source": [
    "compare_model_harvest_results(model_results_dfs)"
   ]
  },
  {
   "cell_type": "code",
   "execution_count": null,
   "id": "48ecabf9",
   "metadata": {},
   "outputs": [],
   "source": [
    "analysis.output_best_model_results_from_model_results_dfs(model_results_dfs, max_cpu_3_dir)"
   ]
  },
  {
   "cell_type": "code",
   "execution_count": null,
   "id": "847fa3ab",
   "metadata": {},
   "outputs": [],
   "source": [
    "model_names = list(model_results_dfs.keys()) + ['best']"
   ]
  },
  {
   "cell_type": "code",
   "execution_count": null,
   "id": "6bff4e40",
   "metadata": {
    "scrolled": false
   },
   "outputs": [],
   "source": [
    "model_results_dfs['best'] = display_best_model_results_for_all_traces(max_cpu_3_dir)"
   ]
  },
  {
   "cell_type": "code",
   "execution_count": null,
   "id": "6609d77a",
   "metadata": {},
   "outputs": [],
   "source": [
    "print(\"Test MASE\")\n",
    "analysis.get_percentiles_df_for_model_results(model_results_dfs, model_names, \"test_mase\")"
   ]
  },
  {
   "cell_type": "code",
   "execution_count": null,
   "id": "63c7d809",
   "metadata": {},
   "outputs": [],
   "source": [
    "print(\"Under Predictions MASE\")\n",
    "analysis.get_percentiles_df_for_model_results(model_results_dfs, model_names, \"under_mase\")"
   ]
  },
  {
   "cell_type": "code",
   "execution_count": null,
   "id": "32e8260e",
   "metadata": {},
   "outputs": [],
   "source": [
    "print(\"Proportion of CPU Harvested with 0% Buffer\")\n",
    "analysis.get_percentiles_df_for_model_results(model_results_dfs, model_names, \"prop_harvested_0.0\")"
   ]
  },
  {
   "cell_type": "code",
   "execution_count": null,
   "id": "5d7326be",
   "metadata": {},
   "outputs": [],
   "source": [
    "print(\"Proportion of Violations with 0% Buffer\")\n",
    "analysis.get_percentiles_df_for_model_results(model_results_dfs, model_names, \"prop_violations_0.0\")"
   ]
  },
  {
   "cell_type": "markdown",
   "id": "abcf20ce",
   "metadata": {},
   "source": [
    "### Maximum Memory Usage - 24 Period Aggregation"
   ]
  },
  {
   "cell_type": "code",
   "execution_count": null,
   "id": "c7654826",
   "metadata": {},
   "outputs": [],
   "source": [
    "max_mem_24_dir = \"/Users/mattb/Desktop/Courses/MemoryAutoScaling/output_data/max_mem_24\"\n",
    "model_results_dfs = {}"
   ]
  },
  {
   "cell_type": "code",
   "execution_count": null,
   "id": "74804a4e",
   "metadata": {
    "scrolled": true
   },
   "outputs": [],
   "source": [
    "model_results_dfs['ma'] = get_model_results(max_mem_24_dir, 5, \"ma\")"
   ]
  },
  {
   "cell_type": "code",
   "execution_count": null,
   "id": "ce8f63a8",
   "metadata": {
    "scrolled": true
   },
   "outputs": [],
   "source": [
    "model_results_dfs['es'] = get_model_results(max_mem_24_dir, 5, \"es\")"
   ]
  },
  {
   "cell_type": "code",
   "execution_count": null,
   "id": "ddbfbccf",
   "metadata": {
    "scrolled": true
   },
   "outputs": [],
   "source": [
    "model_results_dfs['ar'] = get_model_results(max_mem_24_dir, 5, \"ar\")"
   ]
  },
  {
   "cell_type": "code",
   "execution_count": null,
   "id": "c8cc77cb",
   "metadata": {},
   "outputs": [],
   "source": [
    "model_results_dfs['reg'] = get_model_results(max_mem_24_dir, 5, \"reg\")"
   ]
  },
  {
   "cell_type": "code",
   "execution_count": null,
   "id": "93ccaea7",
   "metadata": {},
   "outputs": [],
   "source": [
    "model_results_dfs['svm'] = get_model_results(max_mem_24_dir, 5, \"svm\")"
   ]
  },
  {
   "cell_type": "code",
   "execution_count": null,
   "id": "9821299f",
   "metadata": {},
   "outputs": [],
   "source": [
    "model_results_dfs['xgb'] = get_model_results(max_mem_24_dir, 5, \"xgb\")"
   ]
  },
  {
   "cell_type": "code",
   "execution_count": null,
   "id": "b8a4e534",
   "metadata": {},
   "outputs": [],
   "source": [
    "model_results_dfs['arima'] = get_model_results(max_mem_24_dir, 5, \"arima\")"
   ]
  },
  {
   "cell_type": "code",
   "execution_count": null,
   "id": "2e95afb5",
   "metadata": {
    "scrolled": false
   },
   "outputs": [],
   "source": [
    "plot_all_cdfs_across_models(model_results_dfs)"
   ]
  },
  {
   "cell_type": "code",
   "execution_count": null,
   "id": "26f50c8b",
   "metadata": {
    "scrolled": false
   },
   "outputs": [],
   "source": [
    "compare_model_harvest_results(model_results_dfs)"
   ]
  },
  {
   "cell_type": "code",
   "execution_count": null,
   "id": "11d744bc",
   "metadata": {},
   "outputs": [],
   "source": [
    "analysis.output_best_model_results_from_model_results_dfs(model_results_dfs, max_mem_24_dir)"
   ]
  },
  {
   "cell_type": "code",
   "execution_count": null,
   "id": "623234b2",
   "metadata": {},
   "outputs": [],
   "source": [
    "model_names = list(model_results_dfs.keys()) + ['best']"
   ]
  },
  {
   "cell_type": "code",
   "execution_count": null,
   "id": "f2bf2c5c",
   "metadata": {},
   "outputs": [],
   "source": [
    "model_results_dfs['best'] = display_best_model_results_for_all_traces(max_mem_24_dir)"
   ]
  },
  {
   "cell_type": "code",
   "execution_count": null,
   "id": "073d88f2",
   "metadata": {},
   "outputs": [],
   "source": [
    "print(\"Test MASE\")\n",
    "analysis.get_percentiles_df_for_model_results(model_results_dfs, model_names, \"test_mase\")"
   ]
  },
  {
   "cell_type": "code",
   "execution_count": null,
   "id": "a2c8549e",
   "metadata": {},
   "outputs": [],
   "source": [
    "print(\"Under Predictions MASE\")\n",
    "analysis.get_percentiles_df_for_model_results(model_results_dfs, model_names, \"under_mase\")"
   ]
  },
  {
   "cell_type": "code",
   "execution_count": null,
   "id": "f95ea8ff",
   "metadata": {},
   "outputs": [],
   "source": [
    "print(\"Proportion of CPU Harvested with 0% Buffer\")\n",
    "analysis.get_percentiles_df_for_model_results(model_results_dfs, model_names, \"prop_harvested_0.0\")"
   ]
  },
  {
   "cell_type": "code",
   "execution_count": null,
   "id": "4a8bfdab",
   "metadata": {},
   "outputs": [],
   "source": [
    "print(\"Proportion of Violations with 0% Buffer\")\n",
    "analysis.get_percentiles_df_for_model_results(model_results_dfs, model_names, \"prop_violations_0.0\")"
   ]
  },
  {
   "cell_type": "code",
   "execution_count": null,
   "id": "95ccc183",
   "metadata": {},
   "outputs": [],
   "source": [
    "print(\"Proportion of CPU Harvested with 25% Buffer\")\n",
    "analysis.get_percentiles_df_for_model_results(model_results_dfs, model_names, \"prop_harvested_0.25\")"
   ]
  },
  {
   "cell_type": "code",
   "execution_count": null,
   "id": "50ca0f6c",
   "metadata": {},
   "outputs": [],
   "source": [
    "print(\"Proportion of Violations with 25% Buffer\")\n",
    "analysis.get_percentiles_df_for_model_results(model_results_dfs, model_names, \"prop_violations_0.25\")"
   ]
  },
  {
   "cell_type": "code",
   "execution_count": null,
   "id": "c31b7969",
   "metadata": {},
   "outputs": [],
   "source": [
    "x, y = plotting.get_cdf_values(model_results_dfs['arima']['prop_violations_0.25_arima'].values)\n",
    "plt.plot(x, y)\n",
    "np.percentile(x, [1, 25, 50, 75, 99])"
   ]
  },
  {
   "cell_type": "code",
   "execution_count": null,
   "id": "6fb8717d",
   "metadata": {},
   "outputs": [],
   "source": []
  }
 ],
 "metadata": {
  "kernelspec": {
   "display_name": "Python 3",
   "language": "python",
   "name": "python3"
  },
  "language_info": {
   "codemirror_mode": {
    "name": "ipython",
    "version": 3
   },
   "file_extension": ".py",
   "mimetype": "text/x-python",
   "name": "python",
   "nbconvert_exporter": "python",
   "pygments_lexer": "ipython3",
   "version": "3.6.13"
  }
 },
 "nbformat": 4,
 "nbformat_minor": 5
}
